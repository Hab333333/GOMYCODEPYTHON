{
  "nbformat": 4,
  "nbformat_minor": 0,
  "metadata": {
    "colab": {
      "name": "third_checkpoint .ipynb",
      "provenance": [],
      "collapsed_sections": []
    },
    "kernelspec": {
      "name": "python3",
      "display_name": "Python 3"
    },
    "language_info": {
      "name": "python"
    }
  },
  "cells": [
    {
      "cell_type": "code",
      "execution_count": 14,
      "metadata": {
        "id": "un5PhziCl19D",
        "colab": {
          "base_uri": "https://localhost:8080/"
        },
        "outputId": "b4b27fcb-14cd-4ceb-fff1-788c7e6fb3a9"
      },
      "outputs": [
        {
          "output_type": "stream",
          "name": "stdout",
          "text": [
            "enter the range of the list :3\n",
            "enter the value of the item in the list : 2\n",
            "enter the value of the item in the list : 4\n",
            "enter the value of the item in the list : 5\n",
            "[2, 4, 5]\n",
            "40\n"
          ]
        }
      ],
      "source": [
        "#question_1\n",
        "x = input(\"enter the range of the list :\")\n",
        "sum=1\n",
        "my_list = []\n",
        "for i in range(0,int(x)):\n",
        "    z=int(input(\"enter the value of the item in the list : \"))\n",
        "    my_list.insert(i,z)\n",
        "    sum = sum * my_list[i]\n",
        "print(my_list)\n",
        "print(sum)"
      ]
    },
    {
      "cell_type": "code",
      "source": [
        "#question_2\n",
        "my_list = []\n",
        "x = int(input(\"enter the range of the list :\"))\n",
        "for j in range(0,x):\n",
        "    y=int(input(\"enter the range of the tuples\"))\n",
        "    my_tuple_list_j = []\n",
        "    for i in range(0, y):\n",
        "        z = int(input(\"enter the value of the item in the tuple : \"))\n",
        "        my_tuple_list_j.insert(i, z)\n",
        "    my_list.insert(j,tuple(my_tuple_list_j))\n",
        "print('the list before sorting :',my_list)\n",
        "def myFunc(tup):\n",
        "  return tup[-1]\n",
        "my_list.sort(key=myFunc)\n",
        "print('the list after sorting :',my_list)"
      ],
      "metadata": {
        "id": "Pu-Sk3nKmHZa",
        "colab": {
          "base_uri": "https://localhost:8080/"
        },
        "outputId": "582583d3-9f9b-4f05-d957-475575f93302"
      },
      "execution_count": 15,
      "outputs": [
        {
          "output_type": "stream",
          "name": "stdout",
          "text": [
            "enter the range of the list :4\n",
            "enter the range of the tuples2\n",
            "enter the value of the item in the tuple : 1\n",
            "enter the value of the item in the tuple : 2\n",
            "enter the range of the tuples2\n",
            "enter the value of the item in the tuple : 3\n",
            "enter the value of the item in the tuple : 5\n",
            "enter the range of the tuples2\n",
            "enter the value of the item in the tuple : 6\n",
            "enter the value of the item in the tuple : 1\n",
            "enter the range of the tuples2\n",
            "enter the value of the item in the tuple : 8\n",
            "enter the value of the item in the tuple : 3\n",
            "the list before sorting : [(1, 2), (3, 5), (6, 1), (8, 3)]\n",
            "the list after sorting : [(6, 1), (1, 2), (8, 3), (3, 5)]\n"
          ]
        }
      ]
    },
    {
      "cell_type": "code",
      "source": [
        "#question_3\n",
        "my_dict_1 = {'a': 100, 'b': 200, 'c':300}\n",
        "my_dict_2 = {'a': 300, 'b': 200, 'd':400}\n",
        "for key_1 in my_dict_1.keys():\n",
        "  for key_2 in my_dict_2.keys() :\n",
        "    if key_1 == key_2:\n",
        "      my_dict_1[key_1]=my_dict_1[key_1]+my_dict_2[key_2]\n",
        "for key_2 in my_dict_2.keys() :\n",
        "    if my_dict_1.get(key_2)==None:\n",
        "        my_dict_1[key_2]=my_dict_2[key_2]\n",
        "\n",
        "print(my_dict_1)"
      ],
      "metadata": {
        "colab": {
          "base_uri": "https://localhost:8080/"
        },
        "id": "tFplH9U7mQyw",
        "outputId": "aaae51cd-3f39-40a3-e119-3d5b54edf199"
      },
      "execution_count": 16,
      "outputs": [
        {
          "output_type": "stream",
          "name": "stdout",
          "text": [
            "{'a': 400, 'b': 400, 'c': 300, 'd': 400}\n"
          ]
        }
      ]
    },
    {
      "cell_type": "code",
      "source": [
        "#question_4\n",
        "x=int(input(\"enter the number to use it in a dictionary\"))\n",
        "dictionary={}\n",
        "for i in range(1,x+1):\n",
        "    dictionary[i]=i*i\n",
        "print(dictionary)"
      ],
      "metadata": {
        "colab": {
          "base_uri": "https://localhost:8080/"
        },
        "id": "v1ovy6TU21rU",
        "outputId": "8f2e040e-017b-4469-818e-efd2ea6b19f9"
      },
      "execution_count": 7,
      "outputs": [
        {
          "output_type": "stream",
          "name": "stdout",
          "text": [
            "enter the number to use it in a dictionary8\n",
            "{1: 1, 2: 4, 3: 9, 4: 16, 5: 25, 6: 36, 7: 49, 8: 64}\n"
          ]
        }
      ]
    },
    {
      "cell_type": "code",
      "source": [
        "#question_5\n",
        "list=[('item_1','12.4'),('item_2','18.5'),('item_3','14.5')]\n",
        "def myFunc(tup):\n",
        "  return tup[-1]\n",
        "list.sort(reverse=True,key=myFunc)\n",
        "print(list)"
      ],
      "metadata": {
        "colab": {
          "base_uri": "https://localhost:8080/"
        },
        "id": "t3TV0x8S_wIM",
        "outputId": "66eafdc4-8d00-40d3-8ec6-7e4ce304deca"
      },
      "execution_count": 12,
      "outputs": [
        {
          "output_type": "stream",
          "name": "stdout",
          "text": [
            "[('item_2', '18.5'), ('item_3', '14.5'), ('item_1', '12.4')]\n"
          ]
        }
      ]
    }
  ]
}