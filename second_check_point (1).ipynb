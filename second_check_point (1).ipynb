{
  "nbformat": 4,
  "nbformat_minor": 0,
  "metadata": {
    "colab": {
      "name": "second_check_point.ipynb",
      "provenance": [],
      "collapsed_sections": []
    },
    "kernelspec": {
      "name": "python3",
      "display_name": "Python 3"
    },
    "language_info": {
      "name": "python"
    }
  },
  "cells": [
    {
      "cell_type": "code",
      "execution_count": 9,
      "metadata": {
        "colab": {
          "base_uri": "https://localhost:8080/"
        },
        "id": "5nkMuATiSDYM",
        "outputId": "4efec8fd-4460-472b-877d-42b7406f0128"
      },
      "outputs": [
        {
          "output_type": "stream",
          "name": "stdout",
          "text": [
            "enter the first name :ehab\n",
            "enter the second name :hab\n",
            "hab ehab\n"
          ]
        }
      ],
      "source": [
        "#question_1\n",
        "first_name = input(\"enter the first name :\")\n",
        "second_name = input(\"enter the second name :\")\n",
        "print(second_name+' '+first_name) "
      ]
    },
    {
      "cell_type": "code",
      "source": [
        "#question_2\n",
        "x=input(\"enter the number : \")\n",
        "y=int(x)+(int(x)*11)+(int(x)*111)\n",
        "print(y)"
      ],
      "metadata": {
        "colab": {
          "base_uri": "https://localhost:8080/"
        },
        "id": "zYlbhNzpSV4g",
        "outputId": "01809da5-af8c-4c7e-cb10-746ed9fa7c76"
      },
      "execution_count": 10,
      "outputs": [
        {
          "output_type": "stream",
          "name": "stdout",
          "text": [
            "enter the number : 5\n",
            "615\n"
          ]
        }
      ]
    },
    {
      "cell_type": "code",
      "source": [
        "#question_3\n",
        "number= input(\"enter the number :\")\n",
        "z= int(number)%2\n",
        "if z==0:\n",
        "    print(\"%d is even number\" % int(number))\n",
        "else:\n",
        "    print(\"%d is odd number\" % int(number))"
      ],
      "metadata": {
        "colab": {
          "base_uri": "https://localhost:8080/"
        },
        "id": "-mz00q_EVMVF",
        "outputId": "6f2757c8-ca2f-4ab0-fb14-ac074a7b8720"
      },
      "execution_count": 11,
      "outputs": [
        {
          "output_type": "stream",
          "name": "stdout",
          "text": [
            "enter the number :5\n",
            "5 is odd number\n"
          ]
        }
      ]
    },
    {
      "cell_type": "code",
      "source": [
        "#question_4\n",
        "n = [i for i in range(2000, 3200, 5) if i % 7 == 0 ]\n",
        "print(n)"
      ],
      "metadata": {
        "colab": {
          "base_uri": "https://localhost:8080/"
        },
        "id": "NE3wOp1cYBxY",
        "outputId": "3a89fdc1-93bc-4e30-9223-7372f7c1df42"
      },
      "execution_count": 12,
      "outputs": [
        {
          "output_type": "stream",
          "name": "stdout",
          "text": [
            "[2030, 2065, 2100, 2135, 2170, 2205, 2240, 2275, 2310, 2345, 2380, 2415, 2450, 2485, 2520, 2555, 2590, 2625, 2660, 2695, 2730, 2765, 2800, 2835, 2870, 2905, 2940, 2975, 3010, 3045, 3080, 3115, 3150, 3185]\n"
          ]
        }
      ]
    },
    {
      "cell_type": "code",
      "source": [
        "#question_5\n",
        "f=input(\"enter the number to get the factorial :\")\n",
        "fact = 1\n",
        "for b in range(1,int(f)+1):\n",
        "   fact = fact*b\n",
        "print(fact)"
      ],
      "metadata": {
        "colab": {
          "base_uri": "https://localhost:8080/"
        },
        "id": "T7lEOFNPiqVH",
        "outputId": "e714d9da-13cc-4f33-9c69-bd08616a1810"
      },
      "execution_count": 13,
      "outputs": [
        {
          "output_type": "stream",
          "name": "stdout",
          "text": [
            "enter the number to get the factorial :4\n",
            "24\n"
          ]
        }
      ]
    },
    {
      "cell_type": "code",
      "source": [
        "#question_6\n",
        "str=input(\"enter the string :\")\n",
        "for j in range(0,len(str),2):\n",
        "      print(str[j], end =\" \")"
      ],
      "metadata": {
        "colab": {
          "base_uri": "https://localhost:8080/"
        },
        "id": "fYTgNlsHtINe",
        "outputId": "599637ed-72f8-4242-a34d-c3eab164fd65"
      },
      "execution_count": 14,
      "outputs": [
        {
          "output_type": "stream",
          "name": "stdout",
          "text": [
            "enter the string :hab\n",
            "h b "
          ]
        }
      ]
    },
    {
      "cell_type": "code",
      "source": [
        "#question_7\n",
        "price=input(\"enyter the price of item :\")\n",
        "if int(price)>500 :\n",
        "    final_price = int(price)-(int(price)*(50/100))\n",
        "    print(final_price)\n",
        "elif 200<int(price)<500 :\n",
        "    final_price = int(price)-(int(price)*(30/100))\n",
        "    print(final_price)\n",
        "else :\n",
        "    final_price = int(price) - (int(price) * (10 / 100))\n",
        "    print(final_price)"
      ],
      "metadata": {
        "colab": {
          "base_uri": "https://localhost:8080/"
        },
        "id": "tmjIrLs3tJsy",
        "outputId": "8758cc6a-a605-4271-c3a1-9097cffc5935"
      },
      "execution_count": 15,
      "outputs": [
        {
          "output_type": "stream",
          "name": "stdout",
          "text": [
            "enyter the price of item :550\n",
            "275.0\n"
          ]
        }
      ]
    }
  ]
}