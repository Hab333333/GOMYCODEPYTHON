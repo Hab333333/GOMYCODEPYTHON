{
  "nbformat": 4,
  "nbformat_minor": 0,
  "metadata": {
    "colab": {
      "name": "fourth_checkpoint.ipynb",
      "provenance": []
    },
    "kernelspec": {
      "name": "python3",
      "display_name": "Python 3"
    },
    "language_info": {
      "name": "python"
    }
  },
  "cells": [
    {
      "cell_type": "code",
      "execution_count": 3,
      "metadata": {
        "colab": {
          "base_uri": "https://localhost:8080/"
        },
        "id": "YZiAlTAlw74I",
        "outputId": "739e5541-5053-4972-c34b-22a2a4c9ef44"
      },
      "outputs": [
        {
          "output_type": "stream",
          "name": "stdout",
          "text": [
            "enter the first number :5\n",
            "enter the second number :4\n",
            "enter the third number :8\n",
            "the maximum number is : 8\n"
          ]
        }
      ],
      "source": [
        "#question_1\n",
        "def max (a,b,c):\n",
        "  if a>b and a>c:\n",
        "    m=a\n",
        "  elif b>a and b>c:\n",
        "    m=b\n",
        "  else :\n",
        "    m=c\n",
        "  return m\n",
        "x=int(input(\"enter the first number :\"))\n",
        "y=int(input(\"enter the second number :\"))\n",
        "z=int(input(\"enter the third number :\"))\n",
        "print(\"the maximum number is : %d\" % max(x,y,z))"
      ]
    },
    {
      "cell_type": "code",
      "source": [
        "#question_2\n",
        "def function(a,b):\n",
        "  m=a*b\n",
        "  if a>b:\n",
        "    sub=a-b\n",
        "  else:\n",
        "    sub=b-a\n",
        "  return m , sub \n",
        "x=int(input(\"enter the first number : \"))\n",
        "y=int(input(\"enter the second number :\"))\n",
        "print(\"the result of multipling the two numbers \",function(x,y)[0])\n",
        "print(\"the result of subtracting the two numbers\",function(x,y)[1])\n"
      ],
      "metadata": {
        "colab": {
          "base_uri": "https://localhost:8080/"
        },
        "id": "z1XycarI1xOJ",
        "outputId": "300ea91d-1134-4e22-8ee9-1178ad33a85c"
      },
      "execution_count": 6,
      "outputs": [
        {
          "output_type": "stream",
          "name": "stdout",
          "text": [
            "enter the first number : 8\n",
            "enter the second number :7\n",
            "the result of multipling the two numbers  56\n",
            "the result of subtracting the two numbers 1\n"
          ]
        }
      ]
    },
    {
      "cell_type": "code",
      "source": [
        "#question_3\n",
        "def lists(my_list_1):\n",
        "  sum=int(0)\n",
        "  for i in range(0, int(len(my_list_1))):\n",
        "    sum= my_list_1[i]+sum\n",
        "  return sum\n",
        "def lists_2(my_list_1):\n",
        "  m=int(1)\n",
        "  for i in range(0, int(len(my_list_1))):\n",
        "    m= my_list_1[i]*m\n",
        "  return m\n",
        "x=int(input(\"enter the number of items in the list :\"))\n",
        "my_list_2=[]\n",
        "my_list_3=[]\n",
        "my_list_4=[]\n",
        "for i in range(0,x):\n",
        "  z=int(input(\"enter the number in the list : \"))\n",
        "  my_list_2.insert(i,z)\n",
        "print(my_list_2)\n",
        "print(\"the sum of the list is : \",lists(my_list_2))\n",
        "print(\"the multiplication of the list is : \",lists_2(my_list_2))\n",
        "for i in range(0,x,2):\n",
        "  my_list_3.insert(i,my_list_2[i])\n",
        "print(\"the even index of the list \",my_list_3)\n",
        "print(\"the sum of the even list is : \",lists(my_list_3))\n",
        "for i in range(1,x,2):\n",
        "  my_list_4.insert(i,my_list_2[i])\n",
        "print(\"the odd index of the list \",my_list_4)\n",
        "print(\"the multiplication of the odd list is : \",lists_2(my_list_4))"
      ],
      "metadata": {
        "colab": {
          "base_uri": "https://localhost:8080/"
        },
        "id": "Y5pvl4vM1GDK",
        "outputId": "5e3bf2f0-b1b9-4ba6-bdb3-217fcefedf16"
      },
      "execution_count": 4,
      "outputs": [
        {
          "output_type": "stream",
          "name": "stdout",
          "text": [
            "enter the number of items in the list :5\n",
            "enter the number in the list : 3\n",
            "enter the number in the list : 4\n",
            "enter the number in the list : 8\n",
            "enter the number in the list : 2\n",
            "enter the number in the list : 1\n",
            "[3, 4, 8, 2, 1]\n",
            "the sum of the list is :  18\n",
            "the multiplication of the list is :  192\n",
            "the even index of the list  [3, 8, 1]\n",
            "the sum of the even list is :  12\n",
            "the odd index of the list  [4, 2]\n",
            "the multiplication of the odd list is :  8\n"
          ]
        }
      ]
    },
    {
      "cell_type": "code",
      "source": [
        "#question_4\n",
        "my_string = input(\"enter a hyphen-separated strings : \")\n",
        "x = lambda my_string:my_string.split(\"_\")\n",
        "y = x(my_string)\n",
        "my_string_sorted = lambda my_string_2:sorted(my_string_2)\n",
        "z = my_string_sorted(y)\n",
        "print(z)\n",
        "a = '_'.join(z)\n",
        "print(a)"
      ],
      "metadata": {
        "colab": {
          "base_uri": "https://localhost:8080/"
        },
        "id": "lTyNdqeU1leG",
        "outputId": "e82a29ed-c028-49e5-c4b5-8e09087cb248"
      },
      "execution_count": 56,
      "outputs": [
        {
          "output_type": "stream",
          "name": "stdout",
          "text": [
            "enter a hyphen-separated strings : red_blue_green\n",
            "['blue', 'green', 'red']\n",
            "blue_green_red\n"
          ]
        }
      ]
    },
    {
      "cell_type": "code",
      "source": [
        "#question_5\n",
        "import math\n",
        "D = input(\"enter the values of D 'split them using a comma ' : \")\n",
        "y = lambda x:x.split(\",\")\n",
        "z = y(D) \n",
        "C = 50\n",
        "H = 30\n",
        "x = []\n",
        "m = []\n",
        "for i in range(0,int(len(z))):\n",
        "  result = (2 * C * int(z[i]))/H\n",
        "  Q = int(math.sqrt(result))\n",
        "  x.insert(i,Q)\n",
        "  m.insert(i,str(x[i]))\n",
        "print(x)\n",
        "n=','.join(m)\n",
        "print(n)"
      ],
      "metadata": {
        "colab": {
          "base_uri": "https://localhost:8080/"
        },
        "id": "SoDVV9UI8T_F",
        "outputId": "eb9f2d7e-52f5-458d-f31d-06e34d6752ad"
      },
      "execution_count": 53,
      "outputs": [
        {
          "output_type": "stream",
          "name": "stdout",
          "text": [
            "enter the values of D 'split them using a comma ' : 100,150,180\n",
            "[18, 22, 24]\n",
            "18, 22, 24\n"
          ]
        }
      ]
    }
  ]
}