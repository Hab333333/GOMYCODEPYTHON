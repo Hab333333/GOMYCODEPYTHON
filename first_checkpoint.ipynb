{
  "nbformat": 4,
  "nbformat_minor": 0,
  "metadata": {
    "colab": {
      "name": "Untitled6.ipynb",
      "provenance": []
    },
    "kernelspec": {
      "name": "python3",
      "display_name": "Python 3"
    },
    "language_info": {
      "name": "python"
    }
  },
  "cells": [
    {
      "cell_type": "code",
      "execution_count": 1,
      "metadata": {
        "colab": {
          "base_uri": "https://localhost:8080/"
        },
        "id": "qFnyCPFu0VlA",
        "outputId": "b1ce0120-b784-4dce-ec91-66c7a11c62f5"
      },
      "outputs": [
        {
          "output_type": "stream",
          "name": "stdout",
          "text": [
            "welcome to python world!let's start coding\n"
          ]
        }
      ],
      "source": [
        "print(\"welcome to python world!let's start coding\")"
      ]
    }
  ]
}