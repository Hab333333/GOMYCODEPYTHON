{
  "nbformat": 4,
  "nbformat_minor": 0,
  "metadata": {
    "colab": {
      "name": "second_check_point.ipynb",
      "provenance": [],
      "collapsed_sections": []
    },
    "kernelspec": {
      "name": "python3",
      "display_name": "Python 3"
    },
    "language_info": {
      "name": "python"
    }
  },
  "cells": [
    {
      "cell_type": "code",
      "execution_count": 9,
      "metadata": {
        "colab": {
          "base_uri": "https://localhost:8080/"
        },
        "id": "5nkMuATiSDYM",
        "outputId": "4efec8fd-4460-472b-877d-42b7406f0128"
      },
      "outputs": [
        {
          "output_type": "stream",
          "name": "stdout",
          "text": [
            "enter the first name :ehab\n",
            "enter the second name :hab\n",
            "hab ehab\n"
          ]
        }
      ],
      "source": [
        "#question_1\n",
        "first_name = input(\"enter the first name :\")\n",
        "second_name = input(\"enter the second name :\")\n",
        "print(second_name+' '+first_name) "
      ]
    },
    {
      "cell_type": "code",
      "source": [
        "#question_2\n",
        "x=input(\"enter the number : \")\n",
        "y=x+x\n",
        "z=x+x+x\n",
        "w=int(x)+int(y)+int(z)\n",
        "print(w)"
      ],
      "metadata": {
        "colab": {
          "base_uri": "https://localhost:8080/"
        },
        "id": "zYlbhNzpSV4g",
        "outputId": "a949f514-02e6-4c72-c693-5b2b6d2f4ee1"
      },
      "execution_count": 19,
      "outputs": [
        {
          "output_type": "stream",
          "name": "stdout",
          "text": [
            "enter the number : 5\n",
            "615\n"
          ]
        }
      ]
    },
    {
      "cell_type": "code",
      "source": [
        "#question_3\n",
        "number= input(\"enter the number :\")\n",
        "z= int(number)%2\n",
        "if z==0:\n",
        "    print(\"%d is even number\" % int(number))\n",
        "else:\n",
        "    print(\"%d is odd number\" % int(number))"
      ],
      "metadata": {
        "colab": {
          "base_uri": "https://localhost:8080/"
        },
        "id": "-mz00q_EVMVF",
        "outputId": "6f2757c8-ca2f-4ab0-fb14-ac074a7b8720"
      },
      "execution_count": 11,
      "outputs": [
        {
          "output_type": "stream",
          "name": "stdout",
          "text": [
            "enter the number :5\n",
            "5 is odd number\n"
          ]
        }
      ]
    },
    {
      "cell_type": "code",
      "source": [
        "#question_4\n",
        "n = [i for i in range(2000, 3200) if i % 7 == 0 and i % 5 != 0]\n",
        "print(n)"
      ],
      "metadata": {
        "colab": {
          "base_uri": "https://localhost:8080/"
        },
        "id": "NE3wOp1cYBxY",
        "outputId": "1c47950d-7c61-48e6-96d9-d82a8dab549c"
      },
      "execution_count": 17,
      "outputs": [
        {
          "output_type": "stream",
          "name": "stdout",
          "text": [
            "[2002, 2009, 2016, 2023, 2037, 2044, 2051, 2058, 2072, 2079, 2086, 2093, 2107, 2114, 2121, 2128, 2142, 2149, 2156, 2163, 2177, 2184, 2191, 2198, 2212, 2219, 2226, 2233, 2247, 2254, 2261, 2268, 2282, 2289, 2296, 2303, 2317, 2324, 2331, 2338, 2352, 2359, 2366, 2373, 2387, 2394, 2401, 2408, 2422, 2429, 2436, 2443, 2457, 2464, 2471, 2478, 2492, 2499, 2506, 2513, 2527, 2534, 2541, 2548, 2562, 2569, 2576, 2583, 2597, 2604, 2611, 2618, 2632, 2639, 2646, 2653, 2667, 2674, 2681, 2688, 2702, 2709, 2716, 2723, 2737, 2744, 2751, 2758, 2772, 2779, 2786, 2793, 2807, 2814, 2821, 2828, 2842, 2849, 2856, 2863, 2877, 2884, 2891, 2898, 2912, 2919, 2926, 2933, 2947, 2954, 2961, 2968, 2982, 2989, 2996, 3003, 3017, 3024, 3031, 3038, 3052, 3059, 3066, 3073, 3087, 3094, 3101, 3108, 3122, 3129, 3136, 3143, 3157, 3164, 3171, 3178, 3192, 3199]\n"
          ]
        }
      ]
    },
    {
      "cell_type": "code",
      "source": [
        "#question_5\n",
        "f=input(\"enter the number to get the factorial :\")\n",
        "fact = 1\n",
        "for b in range(1,int(f)+1):\n",
        "   fact = fact*b\n",
        "print(fact)"
      ],
      "metadata": {
        "colab": {
          "base_uri": "https://localhost:8080/"
        },
        "id": "T7lEOFNPiqVH",
        "outputId": "e714d9da-13cc-4f33-9c69-bd08616a1810"
      },
      "execution_count": 13,
      "outputs": [
        {
          "output_type": "stream",
          "name": "stdout",
          "text": [
            "enter the number to get the factorial :4\n",
            "24\n"
          ]
        }
      ]
    },
    {
      "cell_type": "code",
      "source": [
        "#question_6\n",
        "str=input(\"enter the string :\")\n",
        "for j in range(0,len(str),2):\n",
        "      print(str[j], end =\" \")"
      ],
      "metadata": {
        "colab": {
          "base_uri": "https://localhost:8080/"
        },
        "id": "fYTgNlsHtINe",
        "outputId": "599637ed-72f8-4242-a34d-c3eab164fd65"
      },
      "execution_count": 14,
      "outputs": [
        {
          "output_type": "stream",
          "name": "stdout",
          "text": [
            "enter the string :hab\n",
            "h b "
          ]
        }
      ]
    },
    {
      "cell_type": "code",
      "source": [
        "#question_7\n",
        "price=input(\"enyter the price of item :\")\n",
        "if int(price)>500 :\n",
        "    final_price = int(price)-(int(price)*(50/100))\n",
        "    print(final_price)\n",
        "elif 200<int(price)<500 :\n",
        "    final_price = int(price)-(int(price)*(30/100))\n",
        "    print(final_price)\n",
        "else :\n",
        "    final_price = int(price) - (int(price) * (10 / 100))\n",
        "    print(final_price)"
      ],
      "metadata": {
        "colab": {
          "base_uri": "https://localhost:8080/"
        },
        "id": "tmjIrLs3tJsy",
        "outputId": "8758cc6a-a605-4271-c3a1-9097cffc5935"
      },
      "execution_count": 15,
      "outputs": [
        {
          "output_type": "stream",
          "name": "stdout",
          "text": [
            "enyter the price of item :550\n",
            "275.0\n"
          ]
        }
      ]
    }
  ]
}