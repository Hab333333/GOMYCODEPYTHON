{
  "nbformat": 4,
  "nbformat_minor": 0,
  "metadata": {
    "colab": {
      "name": "sixth_checkpoint_numpy.ipynb",
      "provenance": []
    },
    "kernelspec": {
      "name": "python3",
      "display_name": "Python 3"
    },
    "language_info": {
      "name": "python"
    }
  },
  "cells": [
    {
      "cell_type": "code",
      "execution_count": 1,
      "metadata": {
        "colab": {
          "base_uri": "https://localhost:8080/"
        },
        "id": "z9j_ZXWLQfY5",
        "outputId": "00c77bae-fb0a-47a4-e626-be4f6e077058"
      },
      "outputs": [
        {
          "output_type": "stream",
          "name": "stdout",
          "text": [
            "the np.array is :  [[1 2 3]\n",
            " [4 5 6]\n",
            " [7 8 9]]\n",
            "the list is : [[1, 2, 3], [4, 5, 6], [7, 8, 9]]\n"
          ]
        }
      ],
      "source": [
        "# question_1\n",
        "import numpy as np\n",
        "new_array = np.array([[1,2,3],[4,5,6],[7,8,9]])\n",
        "print(\"the np.array is : \", new_array)\n",
        "new_list = new_array.tolist()\n",
        "print(\"the list is :\", new_list)"
      ]
    },
    {
      "cell_type": "code",
      "source": [
        "# question_2\n",
        "arr = np.array([[0, 2, 4], [6, 8, 10], [12, 14, 16]])\n",
        "print(\"the np.array is : \\n\", arr)\n",
        "sum = int(0)\n",
        "for i in range(0, int(arr.shape[0])):\n",
        "    sum = sum + arr[i, i]\n",
        "print(\"the sum of the diagonal of the array using for loop is  : \", sum)           # first method\n",
        "arr_1 = np.diag(arr)     # diag function specified in numpy\n",
        "sum_1 = np.sum(arr_1)    # sum  function specified in numpy\n",
        "print(\"the sum of the diagonal of the array using diag and sum  is  : \", sum_1)         # second method\n",
        "sum_2 = np.trace(arr)\n",
        "print(\"the sum of the diagonal of the array  using trace is  : \", sum_2)         # third method\n"
      ],
      "metadata": {
        "colab": {
          "base_uri": "https://localhost:8080/"
        },
        "id": "Fom7bNq6QwBC",
        "outputId": "273e49b6-966c-4c0c-9886-e75daed4b346"
      },
      "execution_count": 3,
      "outputs": [
        {
          "output_type": "stream",
          "name": "stdout",
          "text": [
            "the np.array is : \n",
            " [[ 0  2  4]\n",
            " [ 6  8 10]\n",
            " [12 14 16]]\n",
            "the sum of the diagonal of the array using for loop is  :  24\n",
            "the sum of the diagonal of the array using diag and sum  is  :  24\n",
            "the sum of the diagonal of the array  using trace is  :  24\n"
          ]
        }
      ]
    },
    {
      "cell_type": "code",
      "source": [
        "# question_3\n",
        "my_array = np.array([[1, 2], [3, 5]])\n",
        "print(my_array)\n",
        "x = int(2)\n",
        "for j in np.nditer(my_array):\n",
        "    if j > x:\n",
        "        print(\"%d is higher than 2 \" %j)\n",
        "print(\"array of numbers higher than 2 \", my_array[my_array>2])   # second method"
      ],
      "metadata": {
        "colab": {
          "base_uri": "https://localhost:8080/"
        },
        "id": "EXUqiDeJsbqS",
        "outputId": "04107326-ad46-40d8-c93f-13b8c38c7a7a"
      },
      "execution_count": 5,
      "outputs": [
        {
          "output_type": "stream",
          "name": "stdout",
          "text": [
            "[[1 2]\n",
            " [3 5]]\n",
            "3 is higher than 2 \n",
            "5 is higher than 2 \n",
            "array of numbers higher than 2  [3 5]\n"
          ]
        }
      ]
    },
    {
      "cell_type": "code",
      "source": [
        "#question_4\n",
        "a = np.array([[0, 2, 4], [6, 8, 10], [12, 14, 16]])\n",
        "print(\"the first array : \\n\", a)\n",
        "b = np.array([[1, 3, 5], [7, 9, 11], [13, 15, 17]])\n",
        "print(\"the second array :\\n\", b)\n",
        "c = a+b\n",
        "print(\"the sum of the two arrays is \\n\", c)\n"
      ],
      "metadata": {
        "colab": {
          "base_uri": "https://localhost:8080/"
        },
        "id": "8E2pF6xEwykU",
        "outputId": "7477b322-e8fe-4caf-f008-1a7e51108932"
      },
      "execution_count": 12,
      "outputs": [
        {
          "output_type": "stream",
          "name": "stdout",
          "text": [
            "the first array : \n",
            " [[ 0  2  4]\n",
            " [ 6  8 10]\n",
            " [12 14 16]]\n",
            "the second array :\n",
            " [[ 1  3  5]\n",
            " [ 7  9 11]\n",
            " [13 15 17]]\n",
            "the sum of the two arrays is \n",
            " [[ 1  5  9]\n",
            " [13 17 21]\n",
            " [25 29 33]]\n"
          ]
        }
      ]
    },
    {
      "cell_type": "code",
      "source": [
        "my_arr = np.array([[3, 3, 3], [4, 5, 6], [7, 8, 9]])\n",
        "print(\"the original array :\\n \", my_arr)\n",
        "for k in my_arr:\n",
        "    print(\"the mean of each row : \", k.mean())\n",
        "    print(k-k.mean())\n"
      ],
      "metadata": {
        "colab": {
          "base_uri": "https://localhost:8080/"
        },
        "id": "Ojh0MWj4Dj4f",
        "outputId": "5c5cac4c-04bb-4ec7-e450-8114a83d3689"
      },
      "execution_count": 20,
      "outputs": [
        {
          "output_type": "stream",
          "name": "stdout",
          "text": [
            "the original array :\n",
            "  [[3 3 3]\n",
            " [4 5 6]\n",
            " [7 8 9]]\n",
            "the mean of each row :  3.0\n",
            "[0. 0. 0.]\n",
            "the mean of each row :  5.0\n",
            "[-1.  0.  1.]\n",
            "the mean of each row :  8.0\n",
            "[-1.  0.  1.]\n"
          ]
        }
      ]
    }
  ]
}