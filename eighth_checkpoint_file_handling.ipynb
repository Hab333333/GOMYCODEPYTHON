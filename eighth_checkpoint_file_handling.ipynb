{
  "nbformat": 4,
  "nbformat_minor": 0,
  "metadata": {
    "colab": {
      "name": "eighth checkpoint_file handling.ipynb",
      "provenance": []
    },
    "kernelspec": {
      "name": "python3",
      "display_name": "Python 3"
    },
    "language_info": {
      "name": "python"
    }
  },
  "cells": [
    {
      "cell_type": "code",
      "execution_count": 11,
      "metadata": {
        "colab": {
          "base_uri": "https://localhost:8080/"
        },
        "id": "zwQ-WrNVCX_K",
        "outputId": "a3260533-cde5-4966-ff98-1b77313c7cc9"
      },
      "outputs": [
        {
          "output_type": "stream",
          "name": "stdout",
          "text": [
            "What is Python language?                                                \n",
            "\n",
            "Python is a widely used high-level, general-purpose, interpreted, dynamic programming language.Its design philosophy emphasizes code readability, and its syntax allows programmers to express concepts in fewer lines of code than possible in \n",
            "\n",
            "languages such as C++ or Java. \n",
            "\n"
          ]
        }
      ],
      "source": [
        "x = open('/content/python.txt')\n",
        "for i in range(0,3):\n",
        "       line = x.readlines()[i]\n",
        "       print(line)\n",
        "       x.seek(0)\n"
      ]
    },
    {
      "cell_type": "code",
      "source": [
        "for j in range(1,2):\n",
        "       line_1 = x.readlines()[-j]\n",
        "       print(line_1)\n",
        "       x.seek(0)"
      ],
      "metadata": {
        "colab": {
          "base_uri": "https://localhost:8080/"
        },
        "id": "vNL3m-kdQAdJ",
        "outputId": "8e436341-6e68-4ba1-c03e-0a6802a2bfd4"
      },
      "execution_count": 12,
      "outputs": [
        {
          "output_type": "stream",
          "name": "stdout",
          "text": [
            "Python supports multiple programming paradigms, including object-oriented, imperative and functional programming or procedural styles. It features a dynamic type system and automatic memory management and has a large and comprehensive standard library.The best way we learn anything is by practice and exercise questions. We  have started this section for those (beginner to intermediate) who are familiar with Python.\n"
          ]
        }
      ]
    },
    {
      "cell_type": "code",
      "source": [
        "w = x.read()\n",
        "z = w.split(' ')\n",
        "print(len(z))\n",
        "x.close()"
      ],
      "metadata": {
        "colab": {
          "base_uri": "https://localhost:8080/"
        },
        "id": "1LFQ4w73QEsS",
        "outputId": "01c26012-1277-4fd8-9274-59ae5d1ab1ee"
      },
      "execution_count": 13,
      "outputs": [
        {
          "output_type": "stream",
          "name": "stdout",
          "text": [
            "148\n"
          ]
        }
      ]
    }
  ]
}