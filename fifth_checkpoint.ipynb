{
  "nbformat": 4,
  "nbformat_minor": 0,
  "metadata": {
    "colab": {
      "name": "fifth_checkpoint.ipynb",
      "provenance": []
    },
    "kernelspec": {
      "name": "python3",
      "display_name": "Python 3"
    },
    "language_info": {
      "name": "python"
    }
  },
  "cells": [
    {
      "cell_type": "code",
      "execution_count": 1,
      "metadata": {
        "colab": {
          "base_uri": "https://localhost:8080/"
        },
        "id": "iYjG182h7O0v",
        "outputId": "cfa4bb4f-e510-4134-cd8e-2cef94834251"
      },
      "outputs": [
        {
          "output_type": "stream",
          "name": "stdout",
          "text": [
            "(1, 2, 3)\n"
          ]
        }
      ],
      "source": [
        "#question_1\n",
        "class Point3D :\n",
        "    def __init__(self,x,y,z):\n",
        "        self.x = x\n",
        "        self.y = y\n",
        "        self.z = z\n",
        "    def point(self):\n",
        "        return (self.x , self.y , self.z)\n",
        "my_point = Point3D(1,2,3)\n",
        "print(my_point.point())"
      ]
    },
    {
      "cell_type": "code",
      "source": [
        "#question_2\n",
        "class rectangle :\n",
        "    def __init__(self,l,w):\n",
        "        self.l = l\n",
        "        self.w = w\n",
        "    def rectangle_perimeter(self):\n",
        "        p = 2*(self.l + self.w)\n",
        "        return p\n",
        "    def rectangle_area(self):\n",
        "        a = self.l * self.w\n",
        "        return a\n",
        "my_rectangle = rectangle(3,4)\n",
        "print(\"the perimeter of the rectangle is %d cm \" % my_rectangle.rectangle_perimeter())\n",
        "print(\"the area of the rectangle is %d cm^2 \" % my_rectangle.rectangle_area())"
      ],
      "metadata": {
        "colab": {
          "base_uri": "https://localhost:8080/"
        },
        "id": "XiVrz5KS7ZhW",
        "outputId": "fa332b9b-27e1-4287-f0b5-1e232b61988c"
      },
      "execution_count": 3,
      "outputs": [
        {
          "output_type": "stream",
          "name": "stdout",
          "text": [
            "the perimeter of the rectangle is 14 cm \n",
            "the area of the rectangle is 12 cm^2 \n"
          ]
        }
      ]
    },
    {
      "cell_type": "code",
      "source": [
        "#question_3\n",
        "from math import pi\n",
        "class circle :\n",
        "    def __init__(self,x,y,r):\n",
        "        self.x = x\n",
        "        self.y = y\n",
        "        self.r = r\n",
        "    def circumference (self):\n",
        "        c = 2 * pi * self.r\n",
        "        return c\n",
        "    def circle_area(self):\n",
        "        a = pi * (self.r)**2\n",
        "        return a\n",
        "    def isInside(self,x,y):\n",
        "        a = self.x + self.r\n",
        "        b = self.y + self.r\n",
        "        if (x < a and y < b ) or (x == a and y == 0 ) or (x == 0 and y == b ):\n",
        "            print(\"the point belongs to the circle \")\n",
        "        else:\n",
        "            print(\"the point doesn't belong to the circle \")\n",
        "my_circle = circle(0,0,5)\n",
        "print(\"the circumference is %f \" % my_circle.circumference())\n",
        "print(\"the area of the circle is %f \" % my_circle.circle_area())\n",
        "x, y = input(\"enter the point need to be tested : \" ).split(\",\")\n",
        "my_circle.isInside(int(x),int(y))"
      ],
      "metadata": {
        "colab": {
          "base_uri": "https://localhost:8080/"
        },
        "id": "QW3lyJYz4bES",
        "outputId": "94000acc-a04a-4ad5-904b-81a1bf9ca2bd"
      },
      "execution_count": 5,
      "outputs": [
        {
          "output_type": "stream",
          "name": "stdout",
          "text": [
            "the circumference is 31.415927 \n",
            "the area of the circle is 78.539816 \n",
            "enter the point need to be tested : 3,2\n",
            "the point belongs to the circle \n"
          ]
        }
      ]
    },
    {
      "cell_type": "code",
      "source": [
        "#question_4\n",
        "class bank:\n",
        "    def __init__(self, balance):\n",
        "        self.balance = balance\n",
        "    def deposite(self ,x):\n",
        "        self.balance = self.balance + x\n",
        "        return self.balance\n",
        "    def withdraw(self,y):\n",
        "        if y < self.balance:\n",
        "           self.balance = self.balance - y\n",
        "           print(\"your new balance : \", self.balance)\n",
        "        else:\n",
        "           print(\"you can't withdraw this amount of money\")\n",
        "\n",
        "my_account = bank(1000)\n",
        "deposite_amount = int(input(\"enter the amount of money to be deposited \"))\n",
        "print(\"your new balance : \", my_account.deposite(deposite_amount))\n",
        "withdraw_amount =int(input(\"enter the amount of money to be withdrew \"))\n",
        "my_account.withdraw(withdraw_amount)\n"
      ],
      "metadata": {
        "colab": {
          "base_uri": "https://localhost:8080/"
        },
        "id": "GP4k7ZPyrdRp",
        "outputId": "99d8f3a9-92cd-4f2d-dd97-6a398ec21a09"
      },
      "execution_count": 6,
      "outputs": [
        {
          "output_type": "stream",
          "name": "stdout",
          "text": [
            "enter the amount of money to be deposited 2000\n",
            "your new balance :  3000\n",
            "enter the amount of money to be withdrew 500\n",
            "your new balance :  2500\n"
          ]
        }
      ]
    }
  ]
}