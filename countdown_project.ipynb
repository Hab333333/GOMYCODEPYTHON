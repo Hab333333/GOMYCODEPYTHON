{
  "nbformat": 4,
  "nbformat_minor": 0,
  "metadata": {
    "colab": {
      "name": "countdown_project.ipynb",
      "provenance": []
    },
    "kernelspec": {
      "name": "python3",
      "display_name": "Python 3"
    },
    "language_info": {
      "name": "python"
    }
  },
  "cells": [
    {
      "cell_type": "code",
      "execution_count": 13,
      "metadata": {
        "colab": {
          "base_uri": "https://localhost:8080/"
        },
        "id": "qrk1BbiPXdic",
        "outputId": "7162a219-64f5-46e6-95cb-defa6fad1a15"
      },
      "outputs": [
        {
          "output_type": "stream",
          "name": "stdout",
          "text": [
            "00:00\n",
            "Fire in the hole!!\n"
          ]
        }
      ],
      "source": [
        "\n",
        "import time\n",
        "from IPython.display import clear_output, display\n",
        "def countdown(t):\n",
        "    for i in range(t,-1,-1):\n",
        "        mins, secs = divmod(i, 60)\n",
        "        timer = '{:02d}:{:02d}'.format(mins, secs)\n",
        "        clear_output(wait=True)\n",
        "        print(timer)\n",
        "        time.sleep(1)\n",
        "      \n",
        "    print('Fire in the hole!!')\n",
        "\n",
        "t = input(\"Enter the time in seconds: \")\n",
        "countdown(int(t))"
      ]
    },
    {
      "cell_type": "code",
      "source": [
        ""
      ],
      "metadata": {
        "id": "26wFrob5XqVb"
      },
      "execution_count": null,
      "outputs": []
    }
  ]
}