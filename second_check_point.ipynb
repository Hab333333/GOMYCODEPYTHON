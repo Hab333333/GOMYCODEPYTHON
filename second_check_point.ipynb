{
  "nbformat": 4,
  "nbformat_minor": 0,
  "metadata": {
    "colab": {
      "name": "second_check_point.ipynb",
      "provenance": [],
      "collapsed_sections": []
    },
    "kernelspec": {
      "name": "python3",
      "display_name": "Python 3"
    },
    "language_info": {
      "name": "python"
    }
  },
  "cells": [
    {
      "cell_type": "code",
      "execution_count": null,
      "metadata": {
        "id": "5nkMuATiSDYM"
      },
      "outputs": [],
      "source": [
        "#question_1\n",
        "first_name = input(\"enter the first name :\")\n",
        "second_name = input(\"enter the second name :\")\n",
        "print(second_name+' '+first_name) "
      ]
    },
    {
      "cell_type": "code",
      "source": [
        "#question_2\n",
        "x=input(\"enter the number : \")\n",
        "y=int(x)+(int(x)*11)+(int(x)*111)\n",
        "print(y)"
      ],
      "metadata": {
        "id": "zYlbhNzpSV4g"
      },
      "execution_count": null,
      "outputs": []
    },
    {
      "cell_type": "code",
      "source": [
        "#question_3\n",
        "number= input(\"enter the number :\")\n",
        "z= int(number)%2\n",
        "if z==0:\n",
        "    print(\"%d is even number\" % int(number))\n",
        "else:\n",
        "    print(\"%d is odd number\" % int(number))"
      ],
      "metadata": {
        "id": "-mz00q_EVMVF"
      },
      "execution_count": null,
      "outputs": []
    },
    {
      "cell_type": "code",
      "source": [
        "#question_4\n",
        "n = [i for i in range(2000, 3200, 5) if i % 7 == 0 ]\n",
        "print(n)"
      ],
      "metadata": {
        "id": "NE3wOp1cYBxY"
      },
      "execution_count": null,
      "outputs": []
    },
    {
      "cell_type": "code",
      "source": [
        "#question_5\n",
        "f=input(\"enter the number to get the factorial :\")\n",
        "fact = 1\n",
        "for b in range(1,int(f)+1):\n",
        "   fact = fact*b\n",
        "print(fact)"
      ],
      "metadata": {
        "id": "T7lEOFNPiqVH"
      },
      "execution_count": null,
      "outputs": []
    },
    {
      "cell_type": "code",
      "source": [
        "#question_6\n",
        "str=input(\"enter the string :\")\n",
        "for j in range(0,len(str),2):\n",
        "      print(str[j], end =\" \")"
      ],
      "metadata": {
        "id": "fYTgNlsHtINe"
      },
      "execution_count": null,
      "outputs": []
    },
    {
      "cell_type": "code",
      "source": [
        "#question_7\n",
        "price=input(\"enyter the price of item :\")\n",
        "if int(price)>500 :\n",
        "    final_price = int(price)-(int(price)*(50/100))\n",
        "    print(final_price)\n",
        "elif 200<int(price)<500 :\n",
        "    final_price = int(price)-(int(price)*(30/100))\n",
        "    print(final_price)\n",
        "else :\n",
        "    final_price = int(price) - (int(price) * (10 / 100))\n",
        "    print(final_price)"
      ],
      "metadata": {
        "id": "tmjIrLs3tJsy"
      },
      "execution_count": null,
      "outputs": []
    }
  ]
}