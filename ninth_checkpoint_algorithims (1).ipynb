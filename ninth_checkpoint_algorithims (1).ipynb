{
  "nbformat": 4,
  "nbformat_minor": 0,
  "metadata": {
    "colab": {
      "name": "ninth_checkpoint_algorithims.ipynb",
      "provenance": []
    },
    "kernelspec": {
      "name": "python3",
      "display_name": "Python 3"
    },
    "language_info": {
      "name": "python"
    }
  },
  "cells": [
    {
      "cell_type": "code",
      "execution_count": 44,
      "metadata": {
        "colab": {
          "base_uri": "https://localhost:8080/"
        },
        "id": "-6xLgCHbTmHb",
        "outputId": "f2cec89e-ccc2-4da5-cbbb-45aa6485a80f"
      },
      "outputs": [
        {
          "output_type": "stream",
          "name": "stdout",
          "text": [
            "None\n",
            "True\n"
          ]
        }
      ],
      "source": [
        "def binary_search(arr, x):\n",
        "    first_index = 0\n",
        "    last_index = len(arr)-1\n",
        "    while(first_index != last_index):\n",
        "        midpoint = int((first_index + last_index)/2) \n",
        "        if arr[midpoint] < x :\n",
        "            first_index = midpoint + 1\n",
        "        elif arr[midpoint] > x :\n",
        "            last_index = midpoint - 1\n",
        "        elif arr[midpoint]== x :\n",
        "          first_index = last_index\n",
        "          return True\n",
        "   \n",
        "arr= [2,3,4,5,6,7,8]\n",
        "x = 9\n",
        "y = 5\n",
        "print(binary_search(arr,x))\n",
        "print(binary_search(arr,y))"
      ]
    },
    {
      "cell_type": "code",
      "source": [
        "def power(x,y):\n",
        "    result = 1\n",
        "    for i in range(y):\n",
        "        result = x * result\n",
        "    return result\n",
        "print(power(3,2))"
      ],
      "metadata": {
        "colab": {
          "base_uri": "https://localhost:8080/"
        },
        "id": "1-s1-2h8UX5H",
        "outputId": "a111a5cc-506b-4218-bac0-0c4babe0f64d"
      },
      "execution_count": 49,
      "outputs": [
        {
          "output_type": "stream",
          "name": "stdout",
          "text": [
            "9\n"
          ]
        }
      ]
    },
    {
      "cell_type": "code",
      "source": [
        "def bubbleSort(list):\n",
        "    for j in range(0 , len(list)):\n",
        "        for i in range(j):\n",
        "            if list[i]>list[i+1]:\n",
        "                temp = list[i]\n",
        "                list[i] = list[i+1]\n",
        "                list[i+1] = temp\n",
        "    return list\n",
        "\n",
        "nlist = [14,46,43,27,57,41,45,21,70]\n",
        "bubbleSort(nlist)"
      ],
      "metadata": {
        "colab": {
          "base_uri": "https://localhost:8080/"
        },
        "id": "zrzd6ea5u8wG",
        "outputId": "df62aa34-9396-490c-96c0-2c836545bfd1"
      },
      "execution_count": 1,
      "outputs": [
        {
          "output_type": "execute_result",
          "data": {
            "text/plain": [
              "[14, 27, 41, 43, 45, 21, 46, 57, 70]"
            ]
          },
          "metadata": {},
          "execution_count": 1
        }
      ]
    },
    {
      "cell_type": "code",
      "source": [
        "def mergeSort(myList):\n",
        "    if len(myList) > 1:\n",
        "        mid = len(myList) // 2\n",
        "        left = myList[:mid]\n",
        "        right = myList[mid:]\n",
        "        mergeSort(left)\n",
        "        mergeSort(right)\n",
        "        i = 0\n",
        "        j = 0\n",
        "        k = 0\n",
        "        while i < len(left) and j < len(right):\n",
        "            if left[i] < right[j]:\n",
        "              # The value from the left half has been used\n",
        "              myList[k] = left[i]\n",
        "              # Move the iterator forward\n",
        "              i += 1\n",
        "            else:\n",
        "                myList[k] = right[j]\n",
        "                j += 1\n",
        "            k += 1\n",
        "        while i < len(left):\n",
        "            myList[k] = left[i]\n",
        "            i += 1\n",
        "            k += 1\n",
        "\n",
        "        while j < len(right):\n",
        "            myList[k]=right[j]\n",
        "            j += 1\n",
        "            k += 1\n",
        "\n",
        "myList = [54,26,93,17,77,31,44,55,20]\n",
        "mergeSort(myList)\n",
        "print(myList)"
      ],
      "metadata": {
        "colab": {
          "base_uri": "https://localhost:8080/"
        },
        "id": "PLXRO5ZZOpGY",
        "outputId": "22c36b5a-60e5-4607-8e14-d32956b5751b"
      },
      "execution_count": 32,
      "outputs": [
        {
          "output_type": "stream",
          "name": "stdout",
          "text": [
            "[17, 20, 26, 31, 44, 54, 55, 77, 93]\n"
          ]
        }
      ]
    },
    {
      "cell_type": "code",
      "source": [
        "def quick_sort(list):\n",
        "  if len(list) <= 1:\n",
        "    return list\n",
        "  else :\n",
        "    pivot = list.pop(0)\n",
        "    smaller = []\n",
        "    greater = []\n",
        "    for i in range(0,len(list)-1) :\n",
        "       if list[i] > pivot:\n",
        "         greater.append(list[i])\n",
        "       else :\n",
        "         smaller.append(list[i])\n",
        "         \n",
        "    return quick_sort(smaller) + [pivot] + quick_sort(greater)\n",
        "list = [29,13,22,37,52,49,46,71,56]\n",
        "print(quick_sort(list))"
      ],
      "metadata": {
        "colab": {
          "base_uri": "https://localhost:8080/"
        },
        "id": "pWImxmmzPz42",
        "outputId": "b0881588-cf75-41de-ed93-491ea5ef6170"
      },
      "execution_count": 43,
      "outputs": [
        {
          "output_type": "stream",
          "name": "stdout",
          "text": [
            "[13, 29, 37, 49, 52]\n"
          ]
        }
      ]
    },
    {
      "cell_type": "code",
      "source": [
        ""
      ],
      "metadata": {
        "id": "q5rXF1WKX9kc"
      },
      "execution_count": null,
      "outputs": []
    }
  ]
}